
import tensorflow as tf
import numpy as np
import logging

logging.getLogger('tensorflow').setLevel(logging.ERROR)

celsius_q =np.array([-40, -10, 0, 8, 15 ,22, 38], dtype=float)
fahrenheit_a =np.array([-40, -14, 32, 46, 59 ,72, 100], dtype=float)

for i,c in enumerate(celsius_q):
    print(c, "degrees Celsius = ", fahrenheit_a[i])
model = tf.keras.Sequential([tf.keras.layers.Dense(units=1, input_shape=[1])])
""" defininy layer inside the modeldefinition """

model.compile(loss="mean_squared_error", optimizer=tf.keras.optimizers.Adam(0.1))
train the model
history = model.fit(celsius_q, fahrenheit_a, epochs=500, verbose=False)
print("FInished training the model")

import matplotlib.pyplot as plt
plt.xlabel("Epoch Number")
plt.ylabel("Loss Magnitude")
plt.plot(history.history["loss"])

'''test-the-model '''
print(model.predict([100.0]))
